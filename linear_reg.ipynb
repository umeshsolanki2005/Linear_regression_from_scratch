{
 "cells": [
  {
   "cell_type": "code",
   "execution_count": 9,
   "metadata": {},
   "outputs": [],
   "source": [
    "import pandas as pd\n",
    "import matplotlib.pyplot as plt\n",
    "import numpy as np"
   ]
  },
  {
   "cell_type": "markdown",
   "metadata": {},
   "source": [
    "While there are many loss functions to implement, We will use the Mean Squared Error function as our loss function.\n",
    "![img](https://www.askpython.com/wp-content/uploads/2020/12/MSE-300x83.gif.webp)"
   ]
  },
  {
   "cell_type": "markdown",
   "metadata": {},
   "source": [
    " Calculate the Partial Derivatives with respect to parameters\n",
    " \n",
    " ![img](https://www.askpython.com/wp-content/uploads/2020/12/Gradient-of-slope-and-bias.png)"
   ]
  },
  {
   "cell_type": "markdown",
   "metadata": {},
   "source": [
    "Now, we update the values of our parameters using the equations given below:\n",
    "\n",
    "![img](https://www.askpython.com/wp-content/uploads/2020/12/Updating-Parameters.jpg.webp)"
   ]
  },
  {
   "cell_type": "code",
   "execution_count": 10,
   "metadata": {},
   "outputs": [],
   "source": [
    "#Defining the class\n",
    "class LinearRegression:\n",
    "    def __init__(self, x , y):\n",
    "        self.data = x\n",
    "        self.label = y\n",
    "        self.m = 0\n",
    "        self.b = 0\n",
    "        self.n = len(x)\n",
    "         \n",
    "    def fit(self , epochs , lr):\n",
    "         \n",
    "        #Implementing Gradient Descent\n",
    "        for i in range(epochs):\n",
    "            y_pred = self.m * self.data + self.b\n",
    "             \n",
    "            #Calculating derivatives w.r.t Parameters\n",
    "            D_m = (-2/self.n)*sum(self.data * (self.label - y_pred))\n",
    "            D_b = (-1/self.n)*sum(self.label-y_pred)\n",
    "             \n",
    "            #Updating Parameters\n",
    "            self.m = self.m - lr * D_m\n",
    "            self.c = self.b - lr * D_b\n",
    "             \n",
    "    def predict(self , inp):\n",
    "        y_pred = self.m * inp + self.b \n",
    "        return y_pred"
   ]
  },
  {
   "cell_type": "code",
   "execution_count": 11,
   "metadata": {},
   "outputs": [],
   "source": [
    "#loading the dataset\n",
    "df = pd.read_csv(r'C:\\Users\\UMESH SOLANKI\\Downloads\\data_LinearRegression.csv')"
   ]
  },
  {
   "cell_type": "code",
   "execution_count": 12,
   "metadata": {},
   "outputs": [],
   "source": [
    "#Preparing the data\n",
    "x = np.array(df.iloc[:,0])\n",
    "y = np.array(df.iloc[:,1])"
   ]
  },
  {
   "cell_type": "code",
   "execution_count": 13,
   "metadata": {},
   "outputs": [],
   "source": [
    "#Creating the class object\n",
    "regressor = LinearRegression(x,y)"
   ]
  },
  {
   "cell_type": "code",
   "execution_count": 14,
   "metadata": {},
   "outputs": [],
   "source": [
    "#Training the model with .fit method\n",
    "regressor.fit(1000 , 0.0001) # epochs-1000 , learning_rate - 0.0001"
   ]
  },
  {
   "cell_type": "code",
   "execution_count": 15,
   "metadata": {},
   "outputs": [],
   "source": [
    "#Prediciting the values\n",
    "y_pred = regressor.predict(x)"
   ]
  },
  {
   "cell_type": "code",
   "execution_count": null,
   "metadata": {},
   "outputs": [],
   "source": [
    "#Plotting the results\n",
    "plt.figure(figsize = (10,6))\n",
    "plt.scatter(x,y , color = 'green')\n",
    "plt.plot(x , y_pred , color = 'black' , lw = 3)\n",
    "plt.xlabel('x' , size = 20)\n",
    "plt.ylabel('y', size = 20)\n",
    "plt.show()"
   ]
  }
 ],
 "metadata": {
  "kernelspec": {
   "display_name": "Python 3",
   "language": "python",
   "name": "python3"
  },
  "language_info": {
   "codemirror_mode": {
    "name": "ipython",
    "version": 3
   },
   "file_extension": ".py",
   "mimetype": "text/x-python",
   "name": "python",
   "nbconvert_exporter": "python",
   "pygments_lexer": "ipython3",
   "version": "3.12.5"
  }
 },
 "nbformat": 4,
 "nbformat_minor": 2
}
